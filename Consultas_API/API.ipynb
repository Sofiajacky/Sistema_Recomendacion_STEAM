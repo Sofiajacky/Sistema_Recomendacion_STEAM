{
 "cells": [
  {
   "cell_type": "markdown",
   "metadata": {},
   "source": [
    "Si decides separar cada endpoint en archivos individuales, aún necesitarás un archivo principal que actúe como punto de entrada de tu aplicación FastAPI. Este archivo principal debería importar todas las funciones de los diferentes archivos que contienen los endpoints y combinarlos en una sola aplicación FastAPI.\n",
    "\n",
    "Por ejemplo, supongamos que tienes los siguientes archivos para cada endpoint:\n",
    "\n",
    "developer_endpoint.py para el endpoint developer\n",
    "userdata_endpoint.py para el endpoint userdata\n",
    "user_genre_endpoint.py para el endpoint UserForGenre\n",
    "best_developer_endpoint.py para el endpoint best_developer_year\n",
    "developer_reviews_analysis_endpoint.py para el endpoint developer_reviews_analysis\n",
    "Tu archivo principal (main.py, por ejemplo) podría verse así:"
   ]
  },
  {
   "cell_type": "code",
   "execution_count": null,
   "metadata": {},
   "outputs": [],
   "source": [
    "from Consulta_04 import best_developer_year\n",
    "\n",
    "\n",
    "app = FastAPI()\n",
    "\n",
    "# Agregar los endpoints a la aplicación FastAPI\n",
    "app.include_router(best_developer_year)\n"
   ]
  },
  {
   "cell_type": "markdown",
   "metadata": {},
   "source": [
    "En este archivo principal, importamos las funciones de cada endpoint y las agregamos a la aplicación FastAPI usando app.include_router(). Esto combina todos los endpoints en una sola aplicación que luego puedes ejecutar.\n",
    "\n",
    "Al hacer esto, cuando ejecutes uvicorn main:app (suponiendo que tu archivo principal se llama main.py), estarás ejecutando todos los endpoints definidos en los archivos separados de manera conjunta en tu aplicación FastAPI."
   ]
  }
 ],
 "metadata": {
  "kernelspec": {
   "display_name": "Python 3",
   "language": "python",
   "name": "python3"
  },
  "language_info": {
   "codemirror_mode": {
    "name": "ipython",
    "version": 3
   },
   "file_extension": ".py",
   "mimetype": "text/x-python",
   "name": "python",
   "nbconvert_exporter": "python",
   "pygments_lexer": "ipython3",
   "version": "3.11.5"
  }
 },
 "nbformat": 4,
 "nbformat_minor": 2
}
