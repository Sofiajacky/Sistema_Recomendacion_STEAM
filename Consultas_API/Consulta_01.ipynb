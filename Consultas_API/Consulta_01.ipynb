{
 "cells": [
  {
   "cell_type": "markdown",
   "metadata": {},
   "source": [
    "## Consulta 01"
   ]
  },
  {
   "cell_type": "markdown",
   "metadata": {},
   "source": [
    "Esta consulta devuelve una tabla que indica la cantidad de items y porcentaje de contenido Free por año según la empresa desarrolladora.\n",
    "\n",
    "Endpoint: def developer( desarrollador : str )"
   ]
  },
  {
   "cell_type": "markdown",
   "metadata": {},
   "source": [
    "*Importamos la librería y módulo necesarios para el procesamiento de los datos*"
   ]
  },
  {
   "cell_type": "code",
   "execution_count": 1,
   "metadata": {},
   "outputs": [],
   "source": [
    "import pandas as pd\n",
    "import csv\n"
   ]
  },
  {
   "cell_type": "markdown",
   "metadata": {},
   "source": [
    "*Importamos el archivo con el que vamos a trabajar la consulta*"
   ]
  },
  {
   "cell_type": "code",
   "execution_count": 2,
   "metadata": {},
   "outputs": [],
   "source": [
    "df = pd.read_parquet(r'C:\\Users\\Sofi\\Desktop\\Henry\\LABS\\Proyecto_STEAM\\Data_Clean\\games_clean.parquet')"
   ]
  },
  {
   "cell_type": "markdown",
   "metadata": {},
   "source": [
    "*Realizamos una copia para trabajar sobre ella y mantener los datos intactos en el archivo original.*"
   ]
  },
  {
   "cell_type": "code",
   "execution_count": 3,
   "metadata": {},
   "outputs": [],
   "source": [
    "df_games_copy = df.copy()"
   ]
  },
  {
   "cell_type": "markdown",
   "metadata": {},
   "source": [
    "*(Opcional). Podemos hacer una visualización previa del dataset para hacer cualquier análsis previo.*"
   ]
  },
  {
   "cell_type": "code",
   "execution_count": 4,
   "metadata": {},
   "outputs": [
    {
     "data": {
      "text/html": [
       "<div>\n",
       "<style scoped>\n",
       "    .dataframe tbody tr th:only-of-type {\n",
       "        vertical-align: middle;\n",
       "    }\n",
       "\n",
       "    .dataframe tbody tr th {\n",
       "        vertical-align: top;\n",
       "    }\n",
       "\n",
       "    .dataframe thead th {\n",
       "        text-align: right;\n",
       "    }\n",
       "</style>\n",
       "<table border=\"1\" class=\"dataframe\">\n",
       "  <thead>\n",
       "    <tr style=\"text-align: right;\">\n",
       "      <th></th>\n",
       "      <th>id</th>\n",
       "      <th>app_name</th>\n",
       "      <th>developer</th>\n",
       "      <th>genres</th>\n",
       "      <th>price</th>\n",
       "      <th>release_date</th>\n",
       "    </tr>\n",
       "  </thead>\n",
       "  <tbody>\n",
       "    <tr>\n",
       "      <th>0</th>\n",
       "      <td>761140</td>\n",
       "      <td>Lost Summoner Kitty</td>\n",
       "      <td>Kotoshiro</td>\n",
       "      <td>Action</td>\n",
       "      <td>4.99</td>\n",
       "      <td>2018</td>\n",
       "    </tr>\n",
       "    <tr>\n",
       "      <th>1</th>\n",
       "      <td>643980</td>\n",
       "      <td>Ironbound</td>\n",
       "      <td>Secret Level SRL</td>\n",
       "      <td>Indie</td>\n",
       "      <td>0.00</td>\n",
       "      <td>2018</td>\n",
       "    </tr>\n",
       "    <tr>\n",
       "      <th>2</th>\n",
       "      <td>670290</td>\n",
       "      <td>Real Pool 3D - Poolians</td>\n",
       "      <td>Poolians.com</td>\n",
       "      <td>Casual</td>\n",
       "      <td>0.00</td>\n",
       "      <td>2017</td>\n",
       "    </tr>\n",
       "    <tr>\n",
       "      <th>3</th>\n",
       "      <td>767400</td>\n",
       "      <td>弹炸人2222</td>\n",
       "      <td>彼岸领域</td>\n",
       "      <td>Action</td>\n",
       "      <td>0.99</td>\n",
       "      <td>2017</td>\n",
       "    </tr>\n",
       "    <tr>\n",
       "      <th>4</th>\n",
       "      <td>773570</td>\n",
       "      <td>Log Challenge</td>\n",
       "      <td>None</td>\n",
       "      <td>Action</td>\n",
       "      <td>2.99</td>\n",
       "      <td>None</td>\n",
       "    </tr>\n",
       "    <tr>\n",
       "      <th>...</th>\n",
       "      <td>...</td>\n",
       "      <td>...</td>\n",
       "      <td>...</td>\n",
       "      <td>...</td>\n",
       "      <td>...</td>\n",
       "      <td>...</td>\n",
       "    </tr>\n",
       "    <tr>\n",
       "      <th>32130</th>\n",
       "      <td>773640</td>\n",
       "      <td>Colony On Mars</td>\n",
       "      <td>Nikita \"Ghost_RUS\"</td>\n",
       "      <td>Casual</td>\n",
       "      <td>1.99</td>\n",
       "      <td>2018</td>\n",
       "    </tr>\n",
       "    <tr>\n",
       "      <th>32131</th>\n",
       "      <td>733530</td>\n",
       "      <td>LOGistICAL: South Africa</td>\n",
       "      <td>Sacada</td>\n",
       "      <td>Casual</td>\n",
       "      <td>4.99</td>\n",
       "      <td>2018</td>\n",
       "    </tr>\n",
       "    <tr>\n",
       "      <th>32132</th>\n",
       "      <td>610660</td>\n",
       "      <td>Russian Roads</td>\n",
       "      <td>Laush Dmitriy Sergeevich</td>\n",
       "      <td>Indie</td>\n",
       "      <td>1.99</td>\n",
       "      <td>2018</td>\n",
       "    </tr>\n",
       "    <tr>\n",
       "      <th>32133</th>\n",
       "      <td>658870</td>\n",
       "      <td>EXIT 2 - Directions</td>\n",
       "      <td>xropi,stev3ns</td>\n",
       "      <td>Casual</td>\n",
       "      <td>4.99</td>\n",
       "      <td>2017</td>\n",
       "    </tr>\n",
       "    <tr>\n",
       "      <th>32134</th>\n",
       "      <td>681550</td>\n",
       "      <td>Maze Run VR</td>\n",
       "      <td>None</td>\n",
       "      <td>Early Access</td>\n",
       "      <td>4.99</td>\n",
       "      <td>None</td>\n",
       "    </tr>\n",
       "  </tbody>\n",
       "</table>\n",
       "<p>32135 rows × 6 columns</p>\n",
       "</div>"
      ],
      "text/plain": [
       "           id                  app_name                 developer  \\\n",
       "0      761140       Lost Summoner Kitty                 Kotoshiro   \n",
       "1      643980                 Ironbound          Secret Level SRL   \n",
       "2      670290   Real Pool 3D - Poolians              Poolians.com   \n",
       "3      767400                   弹炸人2222                      彼岸领域   \n",
       "4      773570             Log Challenge                      None   \n",
       "...       ...                       ...                       ...   \n",
       "32130  773640            Colony On Mars        Nikita \"Ghost_RUS\"   \n",
       "32131  733530  LOGistICAL: South Africa                    Sacada   \n",
       "32132  610660             Russian Roads  Laush Dmitriy Sergeevich   \n",
       "32133  658870       EXIT 2 - Directions             xropi,stev3ns   \n",
       "32134  681550               Maze Run VR                      None   \n",
       "\n",
       "             genres  price release_date  \n",
       "0            Action   4.99         2018  \n",
       "1             Indie   0.00         2018  \n",
       "2            Casual   0.00         2017  \n",
       "3            Action   0.99         2017  \n",
       "4            Action   2.99         None  \n",
       "...             ...    ...          ...  \n",
       "32130        Casual   1.99         2018  \n",
       "32131        Casual   4.99         2018  \n",
       "32132         Indie   1.99         2018  \n",
       "32133        Casual   4.99         2017  \n",
       "32134  Early Access   4.99         None  \n",
       "\n",
       "[32135 rows x 6 columns]"
      ]
     },
     "execution_count": 4,
     "metadata": {},
     "output_type": "execute_result"
    }
   ],
   "source": [
    "df_games_copy"
   ]
  },
  {
   "cell_type": "markdown",
   "metadata": {},
   "source": [
    "*Desarrollamos la función correspondiente para hacer la consulta que necesitamos*"
   ]
  },
  {
   "cell_type": "code",
   "execution_count": 7,
   "metadata": {},
   "outputs": [],
   "source": [
    "def developer(desarrollador: str, df: pd.DataFrame):\n",
    "    # Convertir la columna 'release_date' a formato de fecha si no lo está\n",
    "    df['release_date'] = pd.to_datetime(df['release_date'], errors='coerce')\n",
    "\n",
    "    # Filtrar el DataFrame por el desarrollador dado\n",
    "    developer_df = df[df['developer'] == desarrollador]\n",
    "\n",
    "    # Agrupar por año y contar la cantidad de elementos en cada grupo\n",
    "    items_por_año = developer_df.groupby(df['release_date'].dt.year).size().reset_index(name='Cantidad de Items')\n",
    "\n",
    "    # Calcular el porcentaje de contenido gratuito para cada año\n",
    "    free_por_año = developer_df[developer_df['price'] == 0].groupby(df['release_date'].dt.year).size().reset_index(name='Contenido Free')\n",
    "\n",
    "    # Combinar los resultados en un DataFrame final\n",
    "    result_df = items_por_año.merge(free_por_año, on='release_date', how='left')\n",
    "    result_df['Contenido Free'] = (result_df['Contenido Free'] / result_df['Cantidad de Items'] * 100).fillna(0).astype(int).astype(str) + '%'\n",
    "\n",
    "    # Renombrar la columna de años\n",
    "    result_df.rename(columns={'release_date': 'Año'}, inplace=True)\n",
    "\n",
    "    return result_df\n",
    "\n"
   ]
  },
  {
   "cell_type": "markdown",
   "metadata": {},
   "source": [
    "*Aplicamos la función y corroboramos que funcione correctamente*"
   ]
  },
  {
   "cell_type": "code",
   "execution_count": 8,
   "metadata": {},
   "outputs": [
    {
     "name": "stdout",
     "output_type": "stream",
     "text": [
      "      Año  Cantidad de Items Contenido Free\n",
      "0  2013.0                  1           100%\n",
      "1  2018.0                  5             0%\n"
     ]
    }
   ],
   "source": [
    "# Llamada a la función con el desarrollador \"Poppermost Productions\" y el DataFrame df_games_clean\n",
    "desarrolladorr = input(\"cargue el desarrollador: \")\n",
    "consulta = developer(desarrolladorr, df_games_copy)\n",
    "print(consulta)"
   ]
  }
 ],
 "metadata": {
  "kernelspec": {
   "display_name": "Python 3",
   "language": "python",
   "name": "python3"
  },
  "language_info": {
   "codemirror_mode": {
    "name": "ipython",
    "version": 3
   },
   "file_extension": ".py",
   "mimetype": "text/x-python",
   "name": "python",
   "nbconvert_exporter": "python",
   "pygments_lexer": "ipython3",
   "version": "3.11.5"
  }
 },
 "nbformat": 4,
 "nbformat_minor": 2
}
