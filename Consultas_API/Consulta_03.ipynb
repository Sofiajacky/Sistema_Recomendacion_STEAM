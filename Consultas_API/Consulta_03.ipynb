{
 "cells": [
  {
   "cell_type": "markdown",
   "metadata": {},
   "source": [
    "## Consulta 03"
   ]
  },
  {
   "cell_type": "markdown",
   "metadata": {},
   "source": [
    "Esta consulta devuelve devolver el usuario que acumula más horas jugadas para el género dado y una lista de la acumulación de horas jugadas por año de lanzamiento.\n",
    "\n",
    "Endpoint: def UserForGenre( genero : str ):\\\n",
    "Ejemplo de retorno: {\"Usuario con más horas jugadas para Género X\" : us213ndjss09sdf, \"Horas jugadas\":[{Año: 2013, Horas: 203}, {Año: 2012, Horas: 100}, {Año: 2011, Horas: 23}]}\n",
    "\n"
   ]
  },
  {
   "cell_type": "markdown",
   "metadata": {},
   "source": [
    "*Importamos la librería y módulo necesarios para el procesamiento de los datos*"
   ]
  },
  {
   "cell_type": "code",
   "execution_count": 3,
   "metadata": {},
   "outputs": [],
   "source": [
    "import pandas as pd\n",
    "import csv"
   ]
  },
  {
   "cell_type": "markdown",
   "metadata": {},
   "source": [
    "*Importamos los archivos con los que vamos a trabajar la consulta*"
   ]
  },
  {
   "cell_type": "code",
   "execution_count": 4,
   "metadata": {},
   "outputs": [],
   "source": [
    "df_games = pd.read_parquet(r'C:\\Users\\Sofi\\Desktop\\Henry\\LABS\\Proyecto_STEAM\\Data_Clean\\games_clean.parquet')\n",
    "df_items = pd.read_parquet(r'C:\\Users\\Sofi\\Desktop\\Henry\\LABS\\Proyecto_STEAM\\Data_Clean\\user_items_clean.parquet')"
   ]
  },
  {
   "cell_type": "markdown",
   "metadata": {},
   "source": [
    "*Realizamos una copia para trabajar sobre ella y mantener los datos intactos en el archivo original.*"
   ]
  },
  {
   "cell_type": "code",
   "execution_count": 5,
   "metadata": {},
   "outputs": [],
   "source": [
    "df_games_copy = df_games.copy()\n",
    "df_items_copy = df_items.copy()"
   ]
  },
  {
   "cell_type": "markdown",
   "metadata": {},
   "source": [
    "*(Opcional). Podemos hacer una visualización previa del dataset para hacer cualquier análsis previo.*"
   ]
  },
  {
   "cell_type": "code",
   "execution_count": 6,
   "metadata": {},
   "outputs": [
    {
     "data": {
      "text/html": [
       "<div>\n",
       "<style scoped>\n",
       "    .dataframe tbody tr th:only-of-type {\n",
       "        vertical-align: middle;\n",
       "    }\n",
       "\n",
       "    .dataframe tbody tr th {\n",
       "        vertical-align: top;\n",
       "    }\n",
       "\n",
       "    .dataframe thead th {\n",
       "        text-align: right;\n",
       "    }\n",
       "</style>\n",
       "<table border=\"1\" class=\"dataframe\">\n",
       "  <thead>\n",
       "    <tr style=\"text-align: right;\">\n",
       "      <th></th>\n",
       "      <th>id</th>\n",
       "      <th>app_name</th>\n",
       "      <th>developer</th>\n",
       "      <th>genres</th>\n",
       "      <th>price</th>\n",
       "      <th>release_date</th>\n",
       "    </tr>\n",
       "  </thead>\n",
       "  <tbody>\n",
       "    <tr>\n",
       "      <th>0</th>\n",
       "      <td>761140</td>\n",
       "      <td>Lost Summoner Kitty</td>\n",
       "      <td>Kotoshiro</td>\n",
       "      <td>Action</td>\n",
       "      <td>4.99</td>\n",
       "      <td>2018</td>\n",
       "    </tr>\n",
       "    <tr>\n",
       "      <th>1</th>\n",
       "      <td>643980</td>\n",
       "      <td>Ironbound</td>\n",
       "      <td>Secret Level SRL</td>\n",
       "      <td>Indie</td>\n",
       "      <td>0.00</td>\n",
       "      <td>2018</td>\n",
       "    </tr>\n",
       "    <tr>\n",
       "      <th>2</th>\n",
       "      <td>670290</td>\n",
       "      <td>Real Pool 3D - Poolians</td>\n",
       "      <td>Poolians.com</td>\n",
       "      <td>Casual</td>\n",
       "      <td>0.00</td>\n",
       "      <td>2017</td>\n",
       "    </tr>\n",
       "    <tr>\n",
       "      <th>3</th>\n",
       "      <td>767400</td>\n",
       "      <td>弹炸人2222</td>\n",
       "      <td>彼岸领域</td>\n",
       "      <td>Action</td>\n",
       "      <td>0.99</td>\n",
       "      <td>2017</td>\n",
       "    </tr>\n",
       "    <tr>\n",
       "      <th>4</th>\n",
       "      <td>773570</td>\n",
       "      <td>Log Challenge</td>\n",
       "      <td>None</td>\n",
       "      <td>Action</td>\n",
       "      <td>2.99</td>\n",
       "      <td>None</td>\n",
       "    </tr>\n",
       "    <tr>\n",
       "      <th>...</th>\n",
       "      <td>...</td>\n",
       "      <td>...</td>\n",
       "      <td>...</td>\n",
       "      <td>...</td>\n",
       "      <td>...</td>\n",
       "      <td>...</td>\n",
       "    </tr>\n",
       "    <tr>\n",
       "      <th>32130</th>\n",
       "      <td>773640</td>\n",
       "      <td>Colony On Mars</td>\n",
       "      <td>Nikita \"Ghost_RUS\"</td>\n",
       "      <td>Casual</td>\n",
       "      <td>1.99</td>\n",
       "      <td>2018</td>\n",
       "    </tr>\n",
       "    <tr>\n",
       "      <th>32131</th>\n",
       "      <td>733530</td>\n",
       "      <td>LOGistICAL: South Africa</td>\n",
       "      <td>Sacada</td>\n",
       "      <td>Casual</td>\n",
       "      <td>4.99</td>\n",
       "      <td>2018</td>\n",
       "    </tr>\n",
       "    <tr>\n",
       "      <th>32132</th>\n",
       "      <td>610660</td>\n",
       "      <td>Russian Roads</td>\n",
       "      <td>Laush Dmitriy Sergeevich</td>\n",
       "      <td>Indie</td>\n",
       "      <td>1.99</td>\n",
       "      <td>2018</td>\n",
       "    </tr>\n",
       "    <tr>\n",
       "      <th>32133</th>\n",
       "      <td>658870</td>\n",
       "      <td>EXIT 2 - Directions</td>\n",
       "      <td>xropi,stev3ns</td>\n",
       "      <td>Casual</td>\n",
       "      <td>4.99</td>\n",
       "      <td>2017</td>\n",
       "    </tr>\n",
       "    <tr>\n",
       "      <th>32134</th>\n",
       "      <td>681550</td>\n",
       "      <td>Maze Run VR</td>\n",
       "      <td>None</td>\n",
       "      <td>Early Access</td>\n",
       "      <td>4.99</td>\n",
       "      <td>None</td>\n",
       "    </tr>\n",
       "  </tbody>\n",
       "</table>\n",
       "<p>32135 rows × 6 columns</p>\n",
       "</div>"
      ],
      "text/plain": [
       "           id                  app_name                 developer  \\\n",
       "0      761140       Lost Summoner Kitty                 Kotoshiro   \n",
       "1      643980                 Ironbound          Secret Level SRL   \n",
       "2      670290   Real Pool 3D - Poolians              Poolians.com   \n",
       "3      767400                   弹炸人2222                      彼岸领域   \n",
       "4      773570             Log Challenge                      None   \n",
       "...       ...                       ...                       ...   \n",
       "32130  773640            Colony On Mars        Nikita \"Ghost_RUS\"   \n",
       "32131  733530  LOGistICAL: South Africa                    Sacada   \n",
       "32132  610660             Russian Roads  Laush Dmitriy Sergeevich   \n",
       "32133  658870       EXIT 2 - Directions             xropi,stev3ns   \n",
       "32134  681550               Maze Run VR                      None   \n",
       "\n",
       "             genres  price release_date  \n",
       "0            Action   4.99         2018  \n",
       "1             Indie   0.00         2018  \n",
       "2            Casual   0.00         2017  \n",
       "3            Action   0.99         2017  \n",
       "4            Action   2.99         None  \n",
       "...             ...    ...          ...  \n",
       "32130        Casual   1.99         2018  \n",
       "32131        Casual   4.99         2018  \n",
       "32132         Indie   1.99         2018  \n",
       "32133        Casual   4.99         2017  \n",
       "32134  Early Access   4.99         None  \n",
       "\n",
       "[32135 rows x 6 columns]"
      ]
     },
     "execution_count": 6,
     "metadata": {},
     "output_type": "execute_result"
    }
   ],
   "source": [
    "df_games_copy"
   ]
  },
  {
   "cell_type": "code",
   "execution_count": 7,
   "metadata": {},
   "outputs": [
    {
     "data": {
      "text/html": [
       "<div>\n",
       "<style scoped>\n",
       "    .dataframe tbody tr th:only-of-type {\n",
       "        vertical-align: middle;\n",
       "    }\n",
       "\n",
       "    .dataframe tbody tr th {\n",
       "        vertical-align: top;\n",
       "    }\n",
       "\n",
       "    .dataframe thead th {\n",
       "        text-align: right;\n",
       "    }\n",
       "</style>\n",
       "<table border=\"1\" class=\"dataframe\">\n",
       "  <thead>\n",
       "    <tr style=\"text-align: right;\">\n",
       "      <th></th>\n",
       "      <th>user_id</th>\n",
       "      <th>items_count</th>\n",
       "      <th>item_id</th>\n",
       "      <th>playtime_forever</th>\n",
       "    </tr>\n",
       "  </thead>\n",
       "  <tbody>\n",
       "    <tr>\n",
       "      <th>0</th>\n",
       "      <td>76561197970982479</td>\n",
       "      <td>277</td>\n",
       "      <td>10</td>\n",
       "      <td>6.0</td>\n",
       "    </tr>\n",
       "    <tr>\n",
       "      <th>1</th>\n",
       "      <td>76561197970982479</td>\n",
       "      <td>277</td>\n",
       "      <td>20</td>\n",
       "      <td>0.0</td>\n",
       "    </tr>\n",
       "    <tr>\n",
       "      <th>2</th>\n",
       "      <td>76561197970982479</td>\n",
       "      <td>277</td>\n",
       "      <td>30</td>\n",
       "      <td>7.0</td>\n",
       "    </tr>\n",
       "    <tr>\n",
       "      <th>3</th>\n",
       "      <td>76561197970982479</td>\n",
       "      <td>277</td>\n",
       "      <td>40</td>\n",
       "      <td>0.0</td>\n",
       "    </tr>\n",
       "    <tr>\n",
       "      <th>4</th>\n",
       "      <td>76561197970982479</td>\n",
       "      <td>277</td>\n",
       "      <td>50</td>\n",
       "      <td>0.0</td>\n",
       "    </tr>\n",
       "    <tr>\n",
       "      <th>...</th>\n",
       "      <td>...</td>\n",
       "      <td>...</td>\n",
       "      <td>...</td>\n",
       "      <td>...</td>\n",
       "    </tr>\n",
       "    <tr>\n",
       "      <th>5170010</th>\n",
       "      <td>76561198329548331</td>\n",
       "      <td>7</td>\n",
       "      <td>373330</td>\n",
       "      <td>0.0</td>\n",
       "    </tr>\n",
       "    <tr>\n",
       "      <th>5170011</th>\n",
       "      <td>76561198329548331</td>\n",
       "      <td>7</td>\n",
       "      <td>388490</td>\n",
       "      <td>3.0</td>\n",
       "    </tr>\n",
       "    <tr>\n",
       "      <th>5170012</th>\n",
       "      <td>76561198329548331</td>\n",
       "      <td>7</td>\n",
       "      <td>521570</td>\n",
       "      <td>4.0</td>\n",
       "    </tr>\n",
       "    <tr>\n",
       "      <th>5170013</th>\n",
       "      <td>76561198329548331</td>\n",
       "      <td>7</td>\n",
       "      <td>519140</td>\n",
       "      <td>3.0</td>\n",
       "    </tr>\n",
       "    <tr>\n",
       "      <th>5170014</th>\n",
       "      <td>edward_tremethick</td>\n",
       "      <td>0</td>\n",
       "      <td>None</td>\n",
       "      <td>NaN</td>\n",
       "    </tr>\n",
       "  </tbody>\n",
       "</table>\n",
       "<p>5170015 rows × 4 columns</p>\n",
       "</div>"
      ],
      "text/plain": [
       "                   user_id  items_count item_id  playtime_forever\n",
       "0        76561197970982479          277      10               6.0\n",
       "1        76561197970982479          277      20               0.0\n",
       "2        76561197970982479          277      30               7.0\n",
       "3        76561197970982479          277      40               0.0\n",
       "4        76561197970982479          277      50               0.0\n",
       "...                    ...          ...     ...               ...\n",
       "5170010  76561198329548331            7  373330               0.0\n",
       "5170011  76561198329548331            7  388490               3.0\n",
       "5170012  76561198329548331            7  521570               4.0\n",
       "5170013  76561198329548331            7  519140               3.0\n",
       "5170014  edward_tremethick            0    None               NaN\n",
       "\n",
       "[5170015 rows x 4 columns]"
      ]
     },
     "execution_count": 7,
     "metadata": {},
     "output_type": "execute_result"
    }
   ],
   "source": [
    "df_items_copy"
   ]
  },
  {
   "cell_type": "markdown",
   "metadata": {},
   "source": [
    "*Desarrollamos la función correspondiente para hacer la consulta que necesitamos*"
   ]
  },
  {
   "cell_type": "code",
   "execution_count": 16,
   "metadata": {},
   "outputs": [],
   "source": [
    "def UserForGenre(genero: str, df_games_copy, df_items_copy):\n",
    "    # Verificar si la columna 'genre' está presente en el DataFrame df_games_copy\n",
    "    if 'genres' not in df_games_copy.columns:\n",
    "        raise ValueError(\"El DataFrame df_games_copy no tiene una columna llamada 'genre'.\")\n",
    "\n",
    "    # Convertir la columna 'release_date' a tipo datetime y extraer el año\n",
    "    df_games_copy['Año'] = pd.to_datetime(df_games_copy['release_date'], errors='coerce').dt.year\n",
    "\n",
    "    # Filtrar df_games_copy por el género dado\n",
    "    juegos_genero = df_games_copy[df_games_copy['genres'] == genero]\n",
    "\n",
    "    # Unir el DataFrame filtrado con df_user_items\n",
    "    juegos_usuario = juegos_genero.merge(df_items_copy, left_on='id', right_on='item_id')\n",
    "\n",
    "    # Calcular las horas jugadas por usuario para cada juego\n",
    "    horas_por_usuario = juegos_usuario.groupby('user_id')['playtime_forever'].sum().reset_index()\n",
    "\n",
    "    # Verificar si hay datos para el género dado\n",
    "    if horas_por_usuario.empty:\n",
    "        return {\"Mensaje\": f\"No hay datos para el género '{genero}'.\"}\n",
    "\n",
    "    # Encontrar el usuario con más horas jugadas\n",
    "    usuario_max_horas = horas_por_usuario.loc[horas_por_usuario['playtime_forever'].idxmax()]['user_id']\n",
    "\n",
    "    # Calcular la acumulación de horas jugadas por año de lanzamiento para el género dado\n",
    "    horas_por_año = juegos_usuario.groupby('Año')['playtime_forever'].sum().reset_index()\n",
    "    horas_por_año.rename(columns={'playtime_forever': 'Horas'}, inplace=True)\n",
    "    horas_por_año['Año'] = horas_por_año['Año'].astype(int)  # Convertir el año a número entero\n",
    "    horas_por_año = horas_por_año.to_dict('records')\n",
    "\n",
    "    # Crear el diccionario de resultados\n",
    "    result = {\n",
    "        \"Usuario con más horas jugadas para {}: \".format(genero): usuario_max_horas,\n",
    "        \"Horas jugadas\": horas_por_año\n",
    "    }\n",
    "\n",
    "    return result"
   ]
  },
  {
   "cell_type": "markdown",
   "metadata": {},
   "source": [
    "*Aplicamos la función y corroboramos que funcione correctamente*"
   ]
  },
  {
   "cell_type": "code",
   "execution_count": 18,
   "metadata": {},
   "outputs": [
    {
     "name": "stdout",
     "output_type": "stream",
     "text": [
      "{'Usuario con más horas jugadas para Simulation: ': '76561198038513068', 'Horas jugadas': [{'Año': 1987, 'Horas': 0.0}, {'Año': 1988, 'Horas': 1.0}, {'Año': 1989, 'Horas': 0.0}, {'Año': 1990, 'Horas': 878.0}, {'Año': 1991, 'Horas': 144.0}, {'Año': 1992, 'Horas': 11.0}, {'Año': 1994, 'Horas': 4127.0}, {'Año': 1995, 'Horas': 980.0}, {'Año': 1998, 'Horas': 4361.0}, {'Año': 1999, 'Horas': 130537.0}, {'Año': 2000, 'Horas': 12342.0}, {'Año': 2001, 'Horas': 215993.0}, {'Año': 2002, 'Horas': 294785.0}, {'Año': 2003, 'Horas': 1363396.0}, {'Año': 2004, 'Horas': 101930.0}, {'Año': 2005, 'Horas': 80704.0}, {'Año': 2006, 'Horas': 2691671.0}, {'Año': 2007, 'Horas': 172230.0}, {'Año': 2008, 'Horas': 3798669.0}, {'Año': 2009, 'Horas': 13880055.0}, {'Año': 2010, 'Horas': 1124125.0}, {'Año': 2011, 'Horas': 3371092.0}, {'Año': 2012, 'Horas': 369703.0}, {'Año': 2013, 'Horas': 16534471.0}, {'Año': 2014, 'Horas': 3738916.0}, {'Año': 2015, 'Horas': 9669002.0}, {'Año': 2016, 'Horas': 5873778.0}, {'Año': 2017, 'Horas': 71150.0}]}\n"
     ]
    }
   ],
   "source": [
    "#Ejemplo de uso:\n",
    "resultado = UserForGenre(\"Simulation\", df_games_copy, df_items_copy)\n",
    "print(resultado)"
   ]
  }
 ],
 "metadata": {
  "kernelspec": {
   "display_name": "Python 3",
   "language": "python",
   "name": "python3"
  },
  "language_info": {
   "codemirror_mode": {
    "name": "ipython",
    "version": 3
   },
   "file_extension": ".py",
   "mimetype": "text/x-python",
   "name": "python",
   "nbconvert_exporter": "python",
   "pygments_lexer": "ipython3",
   "version": "3.11.5"
  }
 },
 "nbformat": 4,
 "nbformat_minor": 2
}
