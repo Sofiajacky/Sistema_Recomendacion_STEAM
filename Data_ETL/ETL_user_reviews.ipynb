{
 "cells": [
  {
   "cell_type": "markdown",
   "metadata": {},
   "source": [
    "## ETL_user_reviews"
   ]
  },
  {
   "cell_type": "code",
   "execution_count": 1,
   "metadata": {},
   "outputs": [],
   "source": [
    "#Importa las librerías pandas para manejo de datos, json para trabajar con archivos JSON \n",
    "# y ast para evaluar expresiones literales de Python.\n",
    "import pandas as pd\n",
    "from pandas import json_normalize # Importamos la función json_normalize de pandas para trabajar con datos JSON anidados.\n",
    "import json as js \n",
    "import ast as ast"
   ]
  },
  {
   "cell_type": "code",
   "execution_count": 2,
   "metadata": {},
   "outputs": [],
   "source": [
    "# Define la ruta del archivo JSON que se va a leer.\n",
    "pathreviews = r'C:\\Users\\Sofi\\Desktop\\Henry\\LABS\\Proyecto_STEAM\\Data\\australian_user_reviews.json'"
   ]
  },
  {
   "cell_type": "markdown",
   "metadata": {},
   "source": [
    "*Abrimos el archivo australian_user_reviews.json y lo guardamos en una variable de tipo lista*"
   ]
  },
  {
   "cell_type": "code",
   "execution_count": 3,
   "metadata": {},
   "outputs": [],
   "source": [
    "# Creamos una lista vacia.\n",
    "lista_reviews= [] \n",
    "\n",
    "# Abrimos el archivo JSON ubicado en 'pathreviews'. \n",
    "with open(pathreviews, encoding='utf-8') as file: \n",
    "    for line in file.readlines(): # Iteramos línea por línea en el archivo JSON.\n",
    "        lista_reviews.append(ast.literal_eval(line)) # agregamos cada línea a la lista 'lista_reviews' después de evaluarla con ast.literal_eval() para convertir la cadena JSON en un objeto Python."
   ]
  },
  {
   "cell_type": "markdown",
   "metadata": {},
   "source": [
    "*Creamos un DataFrame 'df_reviews' a partir de la lista 'lista_reviews'.*\\\n",
    "*Realizamos una copia del DataFrame 'df_reviews' y la guardamos en 'df_reviews_clean' para realizar modificaciones sin alterar el original.*"
   ]
  },
  {
   "cell_type": "code",
   "execution_count": 4,
   "metadata": {},
   "outputs": [],
   "source": [
    "# Creamos el Dataframe de la lista.\n",
    "df_reviews  = pd.DataFrame(lista_reviews)\n",
    "# Copia del df\n",
    "df_reviews_clean = df_reviews.copy()"
   ]
  },
  {
   "cell_type": "markdown",
   "metadata": {},
   "source": [
    "*Eliminamos la columna 'user_url' del DataFrame 'df_reviews_clean'.*"
   ]
  },
  {
   "cell_type": "code",
   "execution_count": 5,
   "metadata": {},
   "outputs": [],
   "source": [
    "df_reviews_clean = df_reviews_clean.drop('user_url', axis=1)"
   ]
  },
  {
   "cell_type": "code",
   "execution_count": 6,
   "metadata": {},
   "outputs": [
    {
     "data": {
      "text/html": [
       "<div>\n",
       "<style scoped>\n",
       "    .dataframe tbody tr th:only-of-type {\n",
       "        vertical-align: middle;\n",
       "    }\n",
       "\n",
       "    .dataframe tbody tr th {\n",
       "        vertical-align: top;\n",
       "    }\n",
       "\n",
       "    .dataframe thead th {\n",
       "        text-align: right;\n",
       "    }\n",
       "</style>\n",
       "<table border=\"1\" class=\"dataframe\">\n",
       "  <thead>\n",
       "    <tr style=\"text-align: right;\">\n",
       "      <th></th>\n",
       "      <th>user_id</th>\n",
       "      <th>reviews</th>\n",
       "    </tr>\n",
       "  </thead>\n",
       "  <tbody>\n",
       "    <tr>\n",
       "      <th>0</th>\n",
       "      <td>76561197970982479</td>\n",
       "      <td>[{'funny': '', 'posted': 'Posted November 5, 2...</td>\n",
       "    </tr>\n",
       "    <tr>\n",
       "      <th>1</th>\n",
       "      <td>js41637</td>\n",
       "      <td>[{'funny': '', 'posted': 'Posted June 24, 2014...</td>\n",
       "    </tr>\n",
       "    <tr>\n",
       "      <th>2</th>\n",
       "      <td>evcentric</td>\n",
       "      <td>[{'funny': '', 'posted': 'Posted February 3.',...</td>\n",
       "    </tr>\n",
       "    <tr>\n",
       "      <th>3</th>\n",
       "      <td>doctr</td>\n",
       "      <td>[{'funny': '', 'posted': 'Posted October 14, 2...</td>\n",
       "    </tr>\n",
       "    <tr>\n",
       "      <th>4</th>\n",
       "      <td>maplemage</td>\n",
       "      <td>[{'funny': '3 people found this review funny',...</td>\n",
       "    </tr>\n",
       "    <tr>\n",
       "      <th>...</th>\n",
       "      <td>...</td>\n",
       "      <td>...</td>\n",
       "    </tr>\n",
       "    <tr>\n",
       "      <th>25794</th>\n",
       "      <td>76561198306599751</td>\n",
       "      <td>[{'funny': '', 'posted': 'Posted May 31.', 'la...</td>\n",
       "    </tr>\n",
       "    <tr>\n",
       "      <th>25795</th>\n",
       "      <td>Ghoustik</td>\n",
       "      <td>[{'funny': '', 'posted': 'Posted June 17.', 'l...</td>\n",
       "    </tr>\n",
       "    <tr>\n",
       "      <th>25796</th>\n",
       "      <td>76561198310819422</td>\n",
       "      <td>[{'funny': '1 person found this review funny',...</td>\n",
       "    </tr>\n",
       "    <tr>\n",
       "      <th>25797</th>\n",
       "      <td>76561198312638244</td>\n",
       "      <td>[{'funny': '', 'posted': 'Posted July 21.', 'l...</td>\n",
       "    </tr>\n",
       "    <tr>\n",
       "      <th>25798</th>\n",
       "      <td>LydiaMorley</td>\n",
       "      <td>[{'funny': '1 person found this review funny',...</td>\n",
       "    </tr>\n",
       "  </tbody>\n",
       "</table>\n",
       "<p>25799 rows × 2 columns</p>\n",
       "</div>"
      ],
      "text/plain": [
       "                 user_id                                            reviews\n",
       "0      76561197970982479  [{'funny': '', 'posted': 'Posted November 5, 2...\n",
       "1                js41637  [{'funny': '', 'posted': 'Posted June 24, 2014...\n",
       "2              evcentric  [{'funny': '', 'posted': 'Posted February 3.',...\n",
       "3                  doctr  [{'funny': '', 'posted': 'Posted October 14, 2...\n",
       "4              maplemage  [{'funny': '3 people found this review funny',...\n",
       "...                  ...                                                ...\n",
       "25794  76561198306599751  [{'funny': '', 'posted': 'Posted May 31.', 'la...\n",
       "25795           Ghoustik  [{'funny': '', 'posted': 'Posted June 17.', 'l...\n",
       "25796  76561198310819422  [{'funny': '1 person found this review funny',...\n",
       "25797  76561198312638244  [{'funny': '', 'posted': 'Posted July 21.', 'l...\n",
       "25798        LydiaMorley  [{'funny': '1 person found this review funny',...\n",
       "\n",
       "[25799 rows x 2 columns]"
      ]
     },
     "execution_count": 6,
     "metadata": {},
     "output_type": "execute_result"
    }
   ],
   "source": [
    "df_reviews_clean"
   ]
  },
  {
   "cell_type": "markdown",
   "metadata": {},
   "source": [
    "*Desanidamos la columna 'reviews' del DataFrame 'df_reviews_clean', expandiendo los datos anidados en esa columna y reiniciando los índices del DataFrame resultante.*"
   ]
  },
  {
   "cell_type": "code",
   "execution_count": 7,
   "metadata": {},
   "outputs": [],
   "source": [
    "#Desanidar la columna 'reviews'\n",
    "df_expanded = df_reviews_clean.explode('reviews')\n",
    "\n",
    "df_expanded.reset_index(drop=True, inplace=True)\n",
    "#df_expanded.head(20)"
   ]
  },
  {
   "cell_type": "markdown",
   "metadata": {},
   "source": [
    "*Normalizamos los datos de la columna 'reviews' del DataFrame 'df_expanded', convirtiendo los datos anidados en una estructura de DataFrame plana.*"
   ]
  },
  {
   "cell_type": "code",
   "execution_count": 8,
   "metadata": {},
   "outputs": [],
   "source": [
    "df_reviews_normalized = json_normalize(df_expanded['reviews'])\n",
    "#df_reviews_normalized.head(20)"
   ]
  },
  {
   "cell_type": "markdown",
   "metadata": {},
   "source": [
    "*Combinamos los DataFrames 'df_expanded' (sin la columna 'reviews') y 'df_reviews_normalized' (con los datos normalizados de 'reviews') en un nuevo DataFrame llamado 'df_final'.*"
   ]
  },
  {
   "cell_type": "code",
   "execution_count": 9,
   "metadata": {},
   "outputs": [],
   "source": [
    "#Combinar los DataFrames original y normalizado\n",
    "df_final = pd.concat([df_expanded.drop(columns=['reviews']), df_reviews_normalized], axis=1)\n",
    "#df_final.head(20)"
   ]
  },
  {
   "cell_type": "markdown",
   "metadata": {},
   "source": [
    "*Creamos una lista de columnas a eliminar ('columns_to_drop').*\\\n",
    "*Eliminamos las columnas especificadas en 'columns_to_drop' del DataFrame 'df_final' y guardamos el resultado en 'df_reviews_clean'.*"
   ]
  },
  {
   "cell_type": "code",
   "execution_count": 10,
   "metadata": {},
   "outputs": [
    {
     "data": {
      "text/html": [
       "<div>\n",
       "<style scoped>\n",
       "    .dataframe tbody tr th:only-of-type {\n",
       "        vertical-align: middle;\n",
       "    }\n",
       "\n",
       "    .dataframe tbody tr th {\n",
       "        vertical-align: top;\n",
       "    }\n",
       "\n",
       "    .dataframe thead th {\n",
       "        text-align: right;\n",
       "    }\n",
       "</style>\n",
       "<table border=\"1\" class=\"dataframe\">\n",
       "  <thead>\n",
       "    <tr style=\"text-align: right;\">\n",
       "      <th></th>\n",
       "      <th>user_id</th>\n",
       "      <th>posted</th>\n",
       "      <th>item_id</th>\n",
       "      <th>recommend</th>\n",
       "      <th>review</th>\n",
       "    </tr>\n",
       "  </thead>\n",
       "  <tbody>\n",
       "    <tr>\n",
       "      <th>0</th>\n",
       "      <td>76561197970982479</td>\n",
       "      <td>Posted November 5, 2011.</td>\n",
       "      <td>1250</td>\n",
       "      <td>True</td>\n",
       "      <td>Simple yet with great replayability. In my opi...</td>\n",
       "    </tr>\n",
       "    <tr>\n",
       "      <th>1</th>\n",
       "      <td>76561197970982479</td>\n",
       "      <td>Posted July 15, 2011.</td>\n",
       "      <td>22200</td>\n",
       "      <td>True</td>\n",
       "      <td>It's unique and worth a playthrough.</td>\n",
       "    </tr>\n",
       "    <tr>\n",
       "      <th>2</th>\n",
       "      <td>76561197970982479</td>\n",
       "      <td>Posted April 21, 2011.</td>\n",
       "      <td>43110</td>\n",
       "      <td>True</td>\n",
       "      <td>Great atmosphere. The gunplay can be a bit chu...</td>\n",
       "    </tr>\n",
       "    <tr>\n",
       "      <th>3</th>\n",
       "      <td>js41637</td>\n",
       "      <td>Posted June 24, 2014.</td>\n",
       "      <td>251610</td>\n",
       "      <td>True</td>\n",
       "      <td>I know what you think when you see this title ...</td>\n",
       "    </tr>\n",
       "    <tr>\n",
       "      <th>4</th>\n",
       "      <td>js41637</td>\n",
       "      <td>Posted September 8, 2013.</td>\n",
       "      <td>227300</td>\n",
       "      <td>True</td>\n",
       "      <td>For a simple (it's actually not all that simpl...</td>\n",
       "    </tr>\n",
       "    <tr>\n",
       "      <th>...</th>\n",
       "      <td>...</td>\n",
       "      <td>...</td>\n",
       "      <td>...</td>\n",
       "      <td>...</td>\n",
       "      <td>...</td>\n",
       "    </tr>\n",
       "    <tr>\n",
       "      <th>59328</th>\n",
       "      <td>76561198312638244</td>\n",
       "      <td>Posted July 10.</td>\n",
       "      <td>70</td>\n",
       "      <td>True</td>\n",
       "      <td>a must have classic from steam definitely wort...</td>\n",
       "    </tr>\n",
       "    <tr>\n",
       "      <th>59329</th>\n",
       "      <td>76561198312638244</td>\n",
       "      <td>Posted July 8.</td>\n",
       "      <td>362890</td>\n",
       "      <td>True</td>\n",
       "      <td>this game is a perfect remake of the original ...</td>\n",
       "    </tr>\n",
       "    <tr>\n",
       "      <th>59330</th>\n",
       "      <td>LydiaMorley</td>\n",
       "      <td>Posted July 3.</td>\n",
       "      <td>273110</td>\n",
       "      <td>True</td>\n",
       "      <td>had so much fun plaing this and collecting res...</td>\n",
       "    </tr>\n",
       "    <tr>\n",
       "      <th>59331</th>\n",
       "      <td>LydiaMorley</td>\n",
       "      <td>Posted July 20.</td>\n",
       "      <td>730</td>\n",
       "      <td>True</td>\n",
       "      <td>:D</td>\n",
       "    </tr>\n",
       "    <tr>\n",
       "      <th>59332</th>\n",
       "      <td>LydiaMorley</td>\n",
       "      <td>Posted July 2.</td>\n",
       "      <td>440</td>\n",
       "      <td>True</td>\n",
       "      <td>so much fun :D</td>\n",
       "    </tr>\n",
       "  </tbody>\n",
       "</table>\n",
       "<p>59333 rows × 5 columns</p>\n",
       "</div>"
      ],
      "text/plain": [
       "                 user_id                     posted item_id recommend  \\\n",
       "0      76561197970982479   Posted November 5, 2011.    1250      True   \n",
       "1      76561197970982479      Posted July 15, 2011.   22200      True   \n",
       "2      76561197970982479     Posted April 21, 2011.   43110      True   \n",
       "3                js41637      Posted June 24, 2014.  251610      True   \n",
       "4                js41637  Posted September 8, 2013.  227300      True   \n",
       "...                  ...                        ...     ...       ...   \n",
       "59328  76561198312638244            Posted July 10.      70      True   \n",
       "59329  76561198312638244             Posted July 8.  362890      True   \n",
       "59330        LydiaMorley             Posted July 3.  273110      True   \n",
       "59331        LydiaMorley            Posted July 20.     730      True   \n",
       "59332        LydiaMorley             Posted July 2.     440      True   \n",
       "\n",
       "                                                  review  \n",
       "0      Simple yet with great replayability. In my opi...  \n",
       "1                   It's unique and worth a playthrough.  \n",
       "2      Great atmosphere. The gunplay can be a bit chu...  \n",
       "3      I know what you think when you see this title ...  \n",
       "4      For a simple (it's actually not all that simpl...  \n",
       "...                                                  ...  \n",
       "59328  a must have classic from steam definitely wort...  \n",
       "59329  this game is a perfect remake of the original ...  \n",
       "59330  had so much fun plaing this and collecting res...  \n",
       "59331                                                 :D  \n",
       "59332                                     so much fun :D  \n",
       "\n",
       "[59333 rows x 5 columns]"
      ]
     },
     "execution_count": 10,
     "metadata": {},
     "output_type": "execute_result"
    }
   ],
   "source": [
    "#Lista de columnas a eliminar\n",
    "columns_to_drop = ['funny', 'last_edited', 'helpful']\n",
    "\n",
    "#Eliminar las columnas especificadas\n",
    "df_reviews_clean = df_final.drop(columns=columns_to_drop, errors='ignore')\n",
    "\n",
    "df_reviews_clean"
   ]
  },
  {
   "cell_type": "markdown",
   "metadata": {},
   "source": [
    "*Exportamos el DataFrame a un archivo CSV*"
   ]
  },
  {
   "cell_type": "code",
   "execution_count": 11,
   "metadata": {},
   "outputs": [],
   "source": [
    "df_reviews_clean.to_parquet(r'C:\\Users\\Sofi\\Desktop\\Henry\\LABS\\Proyecto_STEAM\\Data_Clean\\user_reviews_clean.parquet', index=False)"
   ]
  }
 ],
 "metadata": {
  "kernelspec": {
   "display_name": "Python 3",
   "language": "python",
   "name": "python3"
  },
  "language_info": {
   "codemirror_mode": {
    "name": "ipython",
    "version": 3
   },
   "file_extension": ".py",
   "mimetype": "text/x-python",
   "name": "python",
   "nbconvert_exporter": "python",
   "pygments_lexer": "ipython3",
   "version": "3.11.5"
  }
 },
 "nbformat": 4,
 "nbformat_minor": 2
}
