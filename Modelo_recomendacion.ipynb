{
 "cells": [
  {
   "cell_type": "markdown",
   "metadata": {},
   "source": [
    "## Modelo de Recomendación"
   ]
  },
  {
   "cell_type": "markdown",
   "metadata": {},
   "source": [
    "*Se desarrolló un modelo de recomendación item-item para un sistema de recomendación en un entorno de aprendizaje automático.*\\\n",
    "*Se leyeron y fusionaron los datos de juegos y géneros desde archivos parquet, normalizando la fecha de lanzamiento de los juegos. Luego, se seleccionó un subconjunto de datos (en este caso, para que pudiera funcionar en la API, se tuvo que reducir la matriz a un 20%). Se calculó una matriz de similitud del coseno para determinar la similitud entre juegos basada en características como la fecha de lanzamiento y los géneros. Luego, se implementó una función 'recomendacion_juego_muestreado' que toma el ID de un juego y devuelve una lista de 5 juegos recomendados similares al juego ingresado, utilizando la matriz de similitud previamente calculada. Esta función se integra en una API mediante un método GET, donde al ingresar el ID de un juego, se obtienen las recomendaciones de juegos similares. Esto permite a los usuarios del sistema recibir recomendaciones personalizadas de juegos similares a los que les gustan.*"
   ]
  },
  {
   "cell_type": "markdown",
   "metadata": {},
   "source": [
    "*Importación de las librerías necesarias*"
   ]
  },
  {
   "cell_type": "code",
   "execution_count": 2,
   "metadata": {},
   "outputs": [],
   "source": [
    "import pandas as pd\n",
    "from sklearn.preprocessing import StandardScaler\n",
    "from sklearn.metrics.pairwise import cosine_similarity\n",
    "import numpy as np"
   ]
  },
  {
   "cell_type": "code",
   "execution_count": 3,
   "metadata": {},
   "outputs": [],
   "source": [
    "df_genres = pd.read_parquet(r'C:\\Users\\Sofi\\Desktop\\Henry\\LABS\\Proyecto_STEAM\\df_dummies.parquet')\n",
    "df_games = pd.read_parquet(r'C:\\Users\\Sofi\\Desktop\\Henry\\LABS\\Proyecto_STEAM\\Data_Clean\\games_clean.parquet')"
   ]
  },
  {
   "cell_type": "code",
   "execution_count": 4,
   "metadata": {},
   "outputs": [],
   "source": [
    "# Se fusionan los DataFrames df_games y df_genres en df_merged utilizando la columna 'id' \n",
    "df_merged = df_games.merge(df_genres, on='id', how='left')\n",
    "\n",
    "# Se crea una lista llamada features que incluye la columna 'release_date' y todas las columnas de df_genres excepto la primera\n",
    "features = ['release_date'] + list(df_genres.columns[1:])  \n",
    "\n",
    "# Se crea un objeto StandardScaler para normalizar los datos de la columna 'release_date' en df_merged, escalando los valores para que tengan una media de 0 y una desviación estándar de 1.\n",
    "scaler = StandardScaler()\n",
    "df_merged['release_date'] = scaler.fit_transform(df_merged[['release_date']])\n",
    "\n",
    "df_final = df_merged[['id'] + features]\n",
    "df_final= df_final.merge(df_games[['id', 'app_name']], on='id', how='left')"
   ]
  },
  {
   "cell_type": "code",
   "execution_count": 8,
   "metadata": {},
   "outputs": [],
   "source": [
    "# Hacer un sample de un subconjunto de ls datos (20%)\n",
    "df_sampled = df_final.sample(frac=0.2, random_state=42)\n",
    "\n",
    "# Calcular la similitud del coseno \n",
    "similarity_matrix = cosine_similarity(df_sampled[features].fillna(0))\n",
    "similarity_matrix = np.nan_to_num(similarity_matrix)"
   ]
  },
  {
   "cell_type": "code",
   "execution_count": 10,
   "metadata": {},
   "outputs": [],
   "source": [
    "def recomendacion_juego_muestreado(game_id, top_n=5):\n",
    "    # Obtener los IDs de los juegos muestreados\n",
    "    ids_juegos_muestreados = df_sampled['id'].unique()\n",
    "    \n",
    "    # Verificar si el ID del juego está en los juegos muestreados\n",
    "    if game_id not in ids_juegos_muestreados:\n",
    "        return f\"No se encontraron recomendaciones: {game_id} no está en los datos muestreados.\"\n",
    "    \n",
    "    # Obtener el índice del juego en los datos muestreados\n",
    "    indice_juego = df_sampled.index[df_sampled['id'] == game_id].tolist()\n",
    "    \n",
    "    # Verificar si se encontró el juego en los datos muestreados\n",
    "    if not indice_juego:\n",
    "        return f\"No se encontraron recomendaciones: {game_id} no está en los datos muestreados.\"\n",
    "    \n",
    "    indice_juego = indice_juego[0]\n",
    "\n",
    "    # Calcular los puntajes de similitud entre juegos\n",
    "    puntajes_similitud = list(enumerate(similarity_matrix[indice_juego]))\n",
    "    puntajes_similitud = sorted(puntajes_similitud, key=lambda x: x[1], reverse=True)\n",
    "\n",
    "    # Obtener los índices de los juegos similares\n",
    "    indices_juegos_similares = [i for i, puntaje in puntajes_similitud[1:top_n+1]]\n",
    "    \n",
    "    # Obtener los nombres de los juegos similares\n",
    "    nombres_juegos_similares = df_sampled['app_name'].iloc[indices_juegos_similares].tolist()\n",
    "\n",
    "    # Mensaje de recomendación\n",
    "    mensaje_recomendacion = f\"Juegos recomendados basados en el ID del juego {game_id} - {df_sampled['app_name'].iloc[indice_juego]}:\"\n",
    "    \n",
    "    return [mensaje_recomendacion] + nombres_juegos_similares\n"
   ]
  },
  {
   "cell_type": "code",
   "execution_count": 12,
   "metadata": {},
   "outputs": [
    {
     "name": "stdout",
     "output_type": "stream",
     "text": [
      "Recomendaciones para ID de juego 774276\n",
      "Juegos recomendados basados en el ID del juego 774276 - Imhotep, Pyramid Builder:\n",
      "TS Marketplace: Feather River Canyon Scenario Pack 01\n",
      "FSX: Steam Edition - Grumman HU-16B Albatross Add-On\n",
      "TANE DLC: Newcastle Shunter\n",
      "FSX Steam Edition: Endelave Airport Add-On\n",
      "FSX: Steam Edition - Nordborg Airfield Add-On\n"
     ]
    }
   ],
   "source": [
    "test_game_id = \"774276\"\n",
    "recommendations = recomendacion_juego_muestreado(test_game_id, top_n=5)\n",
    "\n",
    "print(\"Recomendaciones para ID de juego\", test_game_id)\n",
    "for rec in recommendations:\n",
    "    print(rec)"
   ]
  }
 ],
 "metadata": {
  "kernelspec": {
   "display_name": "Python 3",
   "language": "python",
   "name": "python3"
  },
  "language_info": {
   "codemirror_mode": {
    "name": "ipython",
    "version": 3
   },
   "file_extension": ".py",
   "mimetype": "text/x-python",
   "name": "python",
   "nbconvert_exporter": "python",
   "pygments_lexer": "ipython3",
   "version": "3.11.5"
  }
 },
 "nbformat": 4,
 "nbformat_minor": 2
}
